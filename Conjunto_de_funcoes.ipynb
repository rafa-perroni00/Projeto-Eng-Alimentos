{
  "nbformat": 4,
  "nbformat_minor": 0,
  "metadata": {
    "colab": {
      "name": "Conjunto_de_funcoes.ipynb",
      "provenance": [],
      "collapsed_sections": [],
      "include_colab_link": true
    },
    "kernelspec": {
      "name": "python3",
      "display_name": "Python 3"
    }
  },
  "cells": [
    {
      "cell_type": "markdown",
      "metadata": {
        "id": "view-in-github",
        "colab_type": "text"
      },
      "source": [
        "<a href=\"https://colab.research.google.com/github/rafa-perroni00/Projeto-Eng-Alimentos/blob/master/Conjunto_de_funcoes.ipynb\" target=\"_parent\"><img src=\"https://colab.research.google.com/assets/colab-badge.svg\" alt=\"Open In Colab\"/></a>"
      ]
    },
    {
      "cell_type": "code",
      "metadata": {
        "id": "arPiNeOCAB-4",
        "colab_type": "code",
        "outputId": "97867c28-6c4b-4e2f-9e18-2b55d0637d69",
        "colab": {
          "base_uri": "https://localhost:8080/",
          "height": 90
        }
      },
      "source": [
        "num1 = input('Digite o primeiro numero:')\n",
        "num2 = input('Digite o segundo numero:')\n",
        "div = int(num1) / int(num2)\n",
        "sub = int(num1) - int(num2)\n",
        "print (\"Divisao:\",div)\n",
        "print (\"Subtracao\",sub)"
      ],
      "execution_count": 0,
      "outputs": [
        {
          "output_type": "stream",
          "text": [
            "Digite o primeiro numero:5\n",
            "Digite o segundo numero:6\n",
            "Divisao: 0.8333333333333334\n",
            "Subtracao -1\n"
          ],
          "name": "stdout"
        }
      ]
    },
    {
      "cell_type": "code",
      "metadata": {
        "id": "Btc6TD0l-OZh",
        "colab_type": "code",
        "outputId": "64aa153d-55ed-4450-f30e-1ad4862195f2",
        "colab": {
          "base_uri": "https://localhost:8080/",
          "height": 126
        }
      },
      "source": [
        "nota1 = float(input('Digite a nota 1:'))\n",
        "nota2 = float(input('Digite a nota 2:'))\n",
        "nota3 = float(input('Digite a nota 3:'))\n",
        "nota4 = float(input('Digite a nota 4:'))\n",
        "\n",
        "media = (nota1*0.5 + nota2*1.55 + nota3*2.25 + nota4*2)/4\n",
        "print(\"Media:\",media)\n",
        "if media > 6:\n",
        "  print(\"Aprovado\")\n",
        "elif media < 5:\n",
        "  print(\"Reprovado\")\n",
        "else:\n",
        "  print(\"PAC\")"
      ],
      "execution_count": 0,
      "outputs": [
        {
          "output_type": "stream",
          "text": [
            "Digite a nota 1:3.5\n",
            "Digite a nota 2:3.5\n",
            "Digite a nota 3:3.5\n",
            "Digite a nota 4:3.5\n",
            "Media: 5.5125\n",
            "PAC\n"
          ],
          "name": "stdout"
        }
      ]
    },
    {
      "cell_type": "code",
      "metadata": {
        "id": "-F5O3VFYXx96",
        "colab_type": "code",
        "outputId": "3d6e0848-0475-49a6-919c-18f7e6ecf863",
        "colab": {
          "base_uri": "https://localhost:8080/",
          "height": 126
        }
      },
      "source": [
        "horas = [ int(input(\"Digite o numero de horas na semana:\")) for i in range(4)]\n",
        "soma = horas[0] + horas[1] + horas[2] + horas[3]\n",
        "media = soma / 30\n",
        "print(\"Horas no mes:\",soma)\n",
        "print(\"Horas por dia:\",media)\n",
        "\n"
      ],
      "execution_count": 0,
      "outputs": [
        {
          "output_type": "stream",
          "text": [
            "Digite o numero de horas na semana:10\n",
            "Digite o numero de horas na semana:10\n",
            "Digite o numero de horas na semana:5\n",
            "Digite o numero de horas na semana:5\n",
            "Horas no mes: 30\n",
            "Horas por dia: 1.0\n"
          ],
          "name": "stdout"
        }
      ]
    },
    {
      "cell_type": "code",
      "metadata": {
        "id": "-nrlLAQkagGQ",
        "colab_type": "code",
        "outputId": "bc8dee28-668e-4aa0-efeb-6579476a00e2",
        "colab": {
          "base_uri": "https://localhost:8080/",
          "height": 54
        }
      },
      "source": [
        "celsius = float(input(\"Digite a temperatura:\"))\n",
        "f = celsius*1.8 + 32\n",
        "print(\"Temperatura em Farenheit:\",f)"
      ],
      "execution_count": 0,
      "outputs": [
        {
          "output_type": "stream",
          "text": [
            "Digite a temperatura:30\n",
            "Temperatura em Farenheit: 86.0\n"
          ],
          "name": "stdout"
        }
      ]
    },
    {
      "cell_type": "code",
      "metadata": {
        "id": "QfgVJaa0dRrL",
        "colab_type": "code",
        "outputId": "a1ed4cff-fb16-460f-dc01-7ba7f4ce1a93",
        "colab": {
          "base_uri": "https://localhost:8080/",
          "height": 326
        }
      },
      "source": [
        "altura = [ float(input(\"Digite uma altura:\")) for i in range(15)]\n",
        "menor = altura[0]\n",
        "for i in range(15):\n",
        "  if menor > altura[i]:\n",
        "    menor = altura[i]\n",
        "\n",
        "for i in range(15):\n",
        "  if maior < altura[i]:\n",
        "    maior = altura[i]\n",
        "\n",
        "print(\"Maior altura:\",maior)\n",
        "print(\"Menor altura:\",menor)"
      ],
      "execution_count": 0,
      "outputs": [
        {
          "output_type": "stream",
          "text": [
            "Digite uma altura:1.1\n",
            "Digite uma altura:1.2\n",
            "Digite uma altura:1.3\n",
            "Digite uma altura:1.4\n",
            "Digite uma altura:1.5\n",
            "Digite uma altura:1.6\n",
            "Digite uma altura:1.7\n",
            "Digite uma altura:1.8\n",
            "Digite uma altura:1.9\n",
            "Digite uma altura:2.0\n",
            "Digite uma altura:2.1\n",
            "Digite uma altura:2.2\n",
            "Digite uma altura:2.3\n",
            "Digite uma altura:2.4\n",
            "Digite uma altura:2.5\n",
            "Maior altura: 2.5\n",
            "Menor altura: 1.1\n"
          ],
          "name": "stdout"
        }
      ]
    },
    {
      "cell_type": "code",
      "metadata": {
        "id": "X_OuO9cdghnc",
        "colab_type": "code",
        "colab": {
          "base_uri": "https://localhost:8080/",
          "height": 187
        },
        "outputId": "608de15c-272e-4dde-9e08-ee50003f9136"
      },
      "source": [
        "    M = [] \n",
        "    linha = [] \n",
        "\n",
        "    while len(M) != 3: \n",
        "        n = int(input(\"Digite um numero: \"))\n",
        "        linha.append(n) \n",
        "        if len(linha) == 3: \n",
        "            M.append(linha) \n",
        "            linha = []\n",
        "            \n",
        "    det = M[0][0] * M[1][1] * M[2][2] + M[0][1] * M[1][2] * M[2][0] + M[0][2] * M[1][0] * M[2][1] - M[2][0] * M[1][1] * M[0][2] - M[2][1] * M[1][2] * M[0][0] - M[2][2] * M[1][0] * M[0][1]\n",
        "    print(\"Determinante da matriz:\",det)"
      ],
      "execution_count": 10,
      "outputs": [
        {
          "output_type": "stream",
          "text": [
            "Digite um numero: 5\n",
            "Digite um numero: 4\n",
            "Digite um numero: 2\n",
            "Digite um numero: 1\n",
            "Digite um numero: 0\n",
            "Digite um numero: 3\n",
            "Digite um numero: 5\n",
            "Digite um numero: 4\n",
            "Digite um numero: 8\n",
            "Determinante da matriz: -24\n"
          ],
          "name": "stdout"
        }
      ]
    },
    {
      "cell_type": "code",
      "metadata": {
        "id": "80JhMOlOoaeN",
        "colab_type": "code",
        "colab": {
          "base_uri": "https://localhost:8080/",
          "height": 187
        },
        "outputId": "57d4a11a-1140-4b8b-f593-18e0cbcc3678"
      },
      "source": [
        "soma = 0\n",
        "arit = 0\n",
        "pos = 0\n",
        "neg = 0\n",
        "geral = 0\n",
        "num = input(\"Digite um numero/Aperte 00 para parar: \")\n",
        "while num != \"00\" :\n",
        "   soma = soma + int(num)\n",
        "   num = input(\"Digite um numero//Aperte 00 para parar: \")\n",
        "   arit = arit + 1\n",
        "   geral = geral + 1\n",
        "   if int(num) < 0:\n",
        "    neg = neg + 1\n",
        "   else:\n",
        "    pos = pos + 1\n",
        "\n",
        "media = soma / arit\n",
        "\n",
        "p_porcento = (pos / geral) *100\n",
        "\n",
        "n_porcento = (neg / geral) *100\n",
        "\n",
        "print(\"Media: \",media)\n",
        "print(\"Numero de Positivos: \",pos)\n",
        "print(\"Numero de Negativos: \",neg)\n",
        "print(\"Porcentagem de Positivos: \",p_porcento)\n",
        "print(\"Porcentagem de Negativos: \",n_porcento)\n"
      ],
      "execution_count": 24,
      "outputs": [
        {
          "output_type": "stream",
          "text": [
            "Digite um numero/Aperte 00 para parar: 5\n",
            "Digite um numero//Aperte 00 para parar: 5\n",
            "Digite um numero//Aperte 00 para parar: -1\n",
            "Digite um numero//Aperte 00 para parar: -1\n",
            "Digite um numero//Aperte 00 para parar: 00\n",
            "Media:  2.0\n",
            "Numero de Positivos:  2\n",
            "Numero de Negativos:  2\n",
            "Porcentagem de Positivos:  50.0\n",
            "Porcentagem de Negativos:  50.0\n"
          ],
          "name": "stdout"
        }
      ]
    }
  ]
}