{
  "nbformat": 4,
  "nbformat_minor": 0,
  "metadata": {
    "colab": {
      "name": "Conjunto_de_funcoes.ipynb",
      "provenance": [],
      "collapsed_sections": [],
      "include_colab_link": true
    },
    "kernelspec": {
      "name": "python3",
      "display_name": "Python 3"
    }
  },
  "cells": [
    {
      "cell_type": "markdown",
      "metadata": {
        "id": "view-in-github",
        "colab_type": "text"
      },
      "source": [
        "<a href=\"https://colab.research.google.com/github/rafa-perroni00/Projeto-Eng-Alimentos/blob/master/Conjunto_de_funcoes.ipynb\" target=\"_parent\"><img src=\"https://colab.research.google.com/assets/colab-badge.svg\" alt=\"Open In Colab\"/></a>"
      ]
    },
    {
      "cell_type": "code",
      "metadata": {
        "id": "arPiNeOCAB-4",
        "colab_type": "code",
        "outputId": "97867c28-6c4b-4e2f-9e18-2b55d0637d69",
        "colab": {
          "base_uri": "https://localhost:8080/",
          "height": 90
        }
      },
      "source": [
        "#Exercicio 1\n",
        "num1 = input('Digite o primeiro numero:')\n",
        "num2 = input('Digite o segundo numero:')\n",
        "div = int(num1) / int(num2)\n",
        "sub = int(num1) - int(num2)\n",
        "print (\"Divisao:\",div)\n",
        "print (\"Subtracao\",sub)"
      ],
      "execution_count": 0,
      "outputs": [
        {
          "output_type": "stream",
          "text": [
            "Digite o primeiro numero:5\n",
            "Digite o segundo numero:6\n",
            "Divisao: 0.8333333333333334\n",
            "Subtracao -1\n"
          ],
          "name": "stdout"
        }
      ]
    },
    {
      "cell_type": "code",
      "metadata": {
        "id": "Btc6TD0l-OZh",
        "colab_type": "code",
        "outputId": "64aa153d-55ed-4450-f30e-1ad4862195f2",
        "colab": {
          "base_uri": "https://localhost:8080/",
          "height": 126
        }
      },
      "source": [
        "#Exercicio 2\n",
        "nota1 = float(input('Digite a nota 1:'))\n",
        "nota2 = float(input('Digite a nota 2:'))\n",
        "nota3 = float(input('Digite a nota 3:'))\n",
        "nota4 = float(input('Digite a nota 4:'))\n",
        "\n",
        "media = (nota1*0.5 + nota2*1.55 + nota3*2.25 + nota4*2)/4\n",
        "print(\"Media:\",media)\n",
        "if media > 6:\n",
        "  print(\"Aprovado\")\n",
        "elif media < 5:\n",
        "  print(\"Reprovado\")\n",
        "else:\n",
        "  print(\"PAC\")"
      ],
      "execution_count": 0,
      "outputs": [
        {
          "output_type": "stream",
          "text": [
            "Digite a nota 1:3.5\n",
            "Digite a nota 2:3.5\n",
            "Digite a nota 3:3.5\n",
            "Digite a nota 4:3.5\n",
            "Media: 5.5125\n",
            "PAC\n"
          ],
          "name": "stdout"
        }
      ]
    },
    {
      "cell_type": "code",
      "metadata": {
        "id": "-F5O3VFYXx96",
        "colab_type": "code",
        "outputId": "3d6e0848-0475-49a6-919c-18f7e6ecf863",
        "colab": {
          "base_uri": "https://localhost:8080/",
          "height": 126
        }
      },
      "source": [
        "#Exercicio 3\n",
        "horas = [ int(input(\"Digite o numero de horas na semana:\")) for i in range(4)]\n",
        "soma = horas[0] + horas[1] + horas[2] + horas[3]\n",
        "media = soma / 30\n",
        "print(\"Horas no mes:\",soma)\n",
        "print(\"Horas por dia:\",media)\n",
        "\n"
      ],
      "execution_count": 0,
      "outputs": [
        {
          "output_type": "stream",
          "text": [
            "Digite o numero de horas na semana:10\n",
            "Digite o numero de horas na semana:10\n",
            "Digite o numero de horas na semana:5\n",
            "Digite o numero de horas na semana:5\n",
            "Horas no mes: 30\n",
            "Horas por dia: 1.0\n"
          ],
          "name": "stdout"
        }
      ]
    },
    {
      "cell_type": "code",
      "metadata": {
        "id": "-nrlLAQkagGQ",
        "colab_type": "code",
        "outputId": "bc8dee28-668e-4aa0-efeb-6579476a00e2",
        "colab": {
          "base_uri": "https://localhost:8080/",
          "height": 54
        }
      },
      "source": [
        "#Exercicio 4\n",
        "celsius = float(input(\"Digite a temperatura:\"))\n",
        "f = celsius*1.8 + 32\n",
        "print(\"Temperatura em Farenheit:\",f)"
      ],
      "execution_count": 0,
      "outputs": [
        {
          "output_type": "stream",
          "text": [
            "Digite a temperatura:30\n",
            "Temperatura em Farenheit: 86.0\n"
          ],
          "name": "stdout"
        }
      ]
    },
    {
      "cell_type": "code",
      "metadata": {
        "id": "QfgVJaa0dRrL",
        "colab_type": "code",
        "outputId": "a1ed4cff-fb16-460f-dc01-7ba7f4ce1a93",
        "colab": {
          "base_uri": "https://localhost:8080/",
          "height": 326
        }
      },
      "source": [
        "#Exercicio 10\n",
        "altura = [ float(input(\"Digite uma altura:\")) for i in range(15)]\n",
        "menor = altura[0]\n",
        "for i in range(15):\n",
        "  if menor > altura[i]:\n",
        "    menor = altura[i]\n",
        "\n",
        "for i in range(15):\n",
        "  if maior < altura[i]:\n",
        "    maior = altura[i]\n",
        "\n",
        "print(\"Maior altura:\",maior)\n",
        "print(\"Menor altura:\",menor)"
      ],
      "execution_count": 0,
      "outputs": [
        {
          "output_type": "stream",
          "text": [
            "Digite uma altura:1.1\n",
            "Digite uma altura:1.2\n",
            "Digite uma altura:1.3\n",
            "Digite uma altura:1.4\n",
            "Digite uma altura:1.5\n",
            "Digite uma altura:1.6\n",
            "Digite uma altura:1.7\n",
            "Digite uma altura:1.8\n",
            "Digite uma altura:1.9\n",
            "Digite uma altura:2.0\n",
            "Digite uma altura:2.1\n",
            "Digite uma altura:2.2\n",
            "Digite uma altura:2.3\n",
            "Digite uma altura:2.4\n",
            "Digite uma altura:2.5\n",
            "Maior altura: 2.5\n",
            "Menor altura: 1.1\n"
          ],
          "name": "stdout"
        }
      ]
    },
    {
      "cell_type": "code",
      "metadata": {
        "id": "X_OuO9cdghnc",
        "colab_type": "code",
        "outputId": "608de15c-272e-4dde-9e08-ee50003f9136",
        "colab": {
          "base_uri": "https://localhost:8080/",
          "height": 187
        }
      },
      "source": [
        "  #Exercicio 7 \n",
        "  M = [] \n",
        "    linha = [] \n",
        "\n",
        "    while len(M) != 3: \n",
        "        n = int(input(\"Digite um numero: \"))\n",
        "        linha.append(n) \n",
        "        if len(linha) == 3: \n",
        "            M.append(linha) \n",
        "            linha = []\n",
        "            \n",
        "    det = M[0][0] * M[1][1] * M[2][2] + M[0][1] * M[1][2] * M[2][0] + M[0][2] * M[1][0] * M[2][1] - M[2][0] * M[1][1] * M[0][2] - M[2][1] * M[1][2] * M[0][0] - M[2][2] * M[1][0] * M[0][1]\n",
        "    print(\"Determinante da matriz:\",det)"
      ],
      "execution_count": 0,
      "outputs": [
        {
          "output_type": "stream",
          "text": [
            "Digite um numero: 5\n",
            "Digite um numero: 4\n",
            "Digite um numero: 2\n",
            "Digite um numero: 1\n",
            "Digite um numero: 0\n",
            "Digite um numero: 3\n",
            "Digite um numero: 5\n",
            "Digite um numero: 4\n",
            "Digite um numero: 8\n",
            "Determinante da matriz: -24\n"
          ],
          "name": "stdout"
        }
      ]
    },
    {
      "cell_type": "code",
      "metadata": {
        "id": "80JhMOlOoaeN",
        "colab_type": "code",
        "outputId": "191da3ba-e161-4418-800b-89dcaf91a366",
        "colab": {
          "base_uri": "https://localhost:8080/",
          "height": 340
        }
      },
      "source": [
        "#Exercicio 11\n",
        "soma = 0\n",
        "arit = 0\n",
        "pos = 0\n",
        "neg = 0\n",
        "geral = 0\n",
        "num = input(\"Digite um numero/Aperte 00 para parar: \")\n",
        "while num != \"00\" :\n",
        "   soma = soma + int(num)\n",
        "   num = input(\"Digite um numero//Aperte 00 para parar: \")\n",
        "   arit = arit + 1\n",
        "   geral = geral + 1\n",
        "   if int(num) < 0:\n",
        "    neg = neg + 1\n",
        "   else:\n",
        "    pos = pos + 1\n",
        "    \n",
        "    \n",
        "media = soma / arit\n",
        "\n",
        "p_porcento = (pos / geral) *100\n",
        "\n",
        "n_porcento = (neg / geral) *100\n",
        "\n",
        "print(\"Media: \",media)\n",
        "print(\"Numero de Positivos: \",pos)\n",
        "print(\"Numero de Negativos: \",neg)\n",
        "print(\"Porcentagem de Positivos: \",p_porcento,\"%\")\n",
        "print(\"Porcentagem de Negativos: \",n_porcento,\"%\")\n"
      ],
      "execution_count": 0,
      "outputs": [
        {
          "output_type": "stream",
          "text": [
            "Digite um numero/Aperte 00 para parar: 1\n",
            "Digite um numero//Aperte 00 para parar: 2\n",
            "Digite um numero//Aperte 00 para parar: 3\n",
            "Digite um numero//Aperte 00 para parar: 4\n",
            "Digite um numero//Aperte 00 para parar: 5\n",
            "Digite um numero//Aperte 00 para parar: 6\n",
            "Digite um numero//Aperte 00 para parar: 7\n",
            "Digite um numero//Aperte 00 para parar: 8\n",
            "Digite um numero//Aperte 00 para parar: 9\n",
            "Digite um numero//Aperte 00 para parar: -5\n",
            "Digite um numero//Aperte 00 para parar: -8\n",
            "Digite um numero//Aperte 00 para parar: -4\n",
            "Digite um numero//Aperte 00 para parar: -2\n",
            "Digite um numero//Aperte 00 para parar: 00\n",
            "Media:  2.0\n",
            "Numero de Positivos:  9\n",
            "Numero de Negativos:  4\n",
            "Porcentagem de Positivos:  69.23076923076923 %\n",
            "Porcentagem de Negativos:  30.76923076923077 %\n"
          ],
          "name": "stdout"
        }
      ]
    },
    {
      "cell_type": "code",
      "metadata": {
        "id": "Dklbjcn6WgGK",
        "colab_type": "code",
        "outputId": "123a4f55-8b5b-46c5-c655-434024ee2112",
        "colab": {
          "base_uri": "https://localhost:8080/",
          "height": 136
        }
      },
      "source": [
        "#Exercicio 8\n",
        "print(\"A*X^2 + BX + C\")\n",
        "A = float(input(\"Digite o coeficiente A: \"))\n",
        "B = float(input(\"Digite o coeficiente B: \"))\n",
        "C = float(input(\"Digite o coeficiente C: \"))\n",
        "delta = B**2 - 4*A*C\n",
        "print(\"Delta = B^2 - 4*A*C = \",delta)\n",
        "if delta < 0:\n",
        "  print(\"Delta menor que zero a equacao nao tem resultados reias.\")\n",
        "else:\n",
        "  X1 = (delta**0.5 - B)/(2*A)\n",
        "  X2 = (-(delta**0.5) - B)/(2*A)\n",
        "  print(X1)\n",
        "  print(X2)\n",
        "  "
      ],
      "execution_count": 0,
      "outputs": [
        {
          "output_type": "stream",
          "text": [
            "A*X^2 + BX + C\n",
            "Digite o coeficiente A: 1\n",
            "Digite o coeficiente B: 2\n",
            "Digite o coeficiente C: -3\n",
            "Delta = B^2 - 4*A*C =  16.0\n",
            "1.0\n",
            "-3.0\n"
          ],
          "name": "stdout"
        }
      ]
    },
    {
      "cell_type": "code",
      "metadata": {
        "id": "cVDzSBn8anA-",
        "colab_type": "code",
        "outputId": "7f703052-bd79-4e11-a684-892f389932bb",
        "colab": {
          "base_uri": "https://localhost:8080/",
          "height": 51
        }
      },
      "source": [
        "#Exercicio 9\n",
        "mes = int(input(\"Digite um numero de 1 ate 12: \"))\n",
        "while mes > 12 or mes < 1:\n",
        "  mes = int(input(\"Digite um numero de 1 ate 12: \"))\n",
        "if mes == 1:\n",
        "  print(\"1.Janeiro.\")\n",
        "elif mes == 2:\n",
        "  print(\"2.Fevereiro.\")\n",
        "elif mes == 3:\n",
        "  print(\"3.Março.\")\n",
        "elif mes == 4:\n",
        "  print(\"4.Abril.\")\n",
        "elif mes == 5:\n",
        "  print(\"5.Maio.\")\n",
        "elif mes == 6:\n",
        "  print(\"6.Junho.\")\n",
        "elif mes == 7:\n",
        "  print(\"7.Julho.\")\n",
        "elif mes == 8:\n",
        "  print(\"8.Agosto.\")\n",
        "elif mes == 9:\n",
        "  print(\"9.Setembro.\")\n",
        "elif mes == 10:\n",
        "  print(\"10.Outubro.\")\n",
        "elif mes == 11:\n",
        "  print(\"11.Novembro.\")\n",
        "else:\n",
        "  print(\"12.Dezembro.\")\n",
        "    "
      ],
      "execution_count": 0,
      "outputs": [
        {
          "output_type": "stream",
          "text": [
            "Digite um numero de 1 ate 12: 7\n",
            "7.Julho.\n"
          ],
          "name": "stdout"
        }
      ]
    },
    {
      "cell_type": "code",
      "metadata": {
        "id": "QapYMyV5C0wt",
        "colab_type": "code",
        "colab": {
          "base_uri": "https://localhost:8080/",
          "height": 238
        },
        "outputId": "6cd4846d-55ae-4dd2-81b2-2fbd6f863f35"
      },
      "source": [
        "#Exercicio 6\n",
        "E1 = int(input(\"Digite a voltagem 1: \"))\n",
        "E2 = int(input(\"Digite a voltagem 2: \"))\n",
        "E3 = int(input(\"Digite a voltagem 3: \"))\n",
        "\n",
        "R1 = int(input(\"Digite a resitencia 1: \"))\n",
        "R2 = int(input(\"Digite a resitencia 2: \"))\n",
        "R3 = int(input(\"Digite a resitencia 3: \"))\n",
        "R4 = int(input(\"Digite a resitencia 4: \"))\n",
        "R5 = int(input(\"Digite a resitencia 5: \"))\n",
        "R6 = int(input(\"Digite a resitencia 6: \"))\n",
        "R7 = int(input(\"Digite a resitencia 7: \"))\n",
        "\n",
        "RI1 = R1 + R2 + R3 + R4 + R5\n",
        "RII1 = R4 + R5\n",
        "\n",
        "RI2 = R4 + R5\n",
        "RII2 = R4 + R5 + R6 + R7\n",
        "\n",
        "V1 = E1 - E2\n",
        "V2 = E2 - E3\n",
        "\n",
        "II = V2 - RI2*V1 - ((RII1*RI2*(RI1**-1)))\n",
        "I = (V1 - RII1*II)/RI1\n",
        "print(\"Valor da Malha 1: \",I)\n",
        "print(\"Valor da Malha 2: \",II)\n",
        "CT = I + II\n",
        "print(\"Valor Total: \",CT)"
      ],
      "execution_count": 5,
      "outputs": [
        {
          "output_type": "stream",
          "text": [
            "Digite a voltagem 1: 10\n",
            "Digite a voltagem 2: 10\n",
            "Digite a voltagem 3: 10\n",
            "Digite a resitencia 1: 100\n",
            "Digite a resitencia 2: 100\n",
            "Digite a resitencia 3: 100\n",
            "Digite a resitencia 4: 100\n",
            "Digite a resitencia 5: 100\n",
            "Digite a resitencia 6: 100\n",
            "Digite a resitencia 7: 100\n",
            "Valor da Malha 1:  32.0\n",
            "Valor da Malha 2:  -80.0\n",
            "Valor Total:  -48.0\n"
          ],
          "name": "stdout"
        }
      ]
    }
  ]
}